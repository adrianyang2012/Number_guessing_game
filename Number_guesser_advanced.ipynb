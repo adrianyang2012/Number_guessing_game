{
  "nbformat": 4,
  "nbformat_minor": 0,
  "metadata": {
    "colab": {
      "private_outputs": true,
      "provenance": [],
      "authorship_tag": "ABX9TyP/BD7EoNiGaap9vNWk3O60",
      "include_colab_link": true
    },
    "kernelspec": {
      "name": "python3",
      "display_name": "Python 3"
    },
    "language_info": {
      "name": "python"
    }
  },
  "cells": [
    {
      "cell_type": "markdown",
      "metadata": {
        "id": "view-in-github",
        "colab_type": "text"
      },
      "source": [
        "<a href=\"https://colab.research.google.com/github/adrianyang2012/Number_guessing_game/blob/main/Number_guesser_advanced.ipynb\" target=\"_parent\"><img src=\"https://colab.research.google.com/assets/colab-badge.svg\" alt=\"Open In Colab\"/></a>"
      ]
    },
    {
      "cell_type": "code",
      "execution_count": null,
      "metadata": {
        "id": "dwTuVSma0HnP"
      },
      "outputs": [],
      "source": [
        "possiblities = []\n",
        "for i in range(1,10):\n",
        "  for j in range(1,10):\n",
        "    if not j == i:\n",
        "      for k in range(1,10):\n",
        "        if not (k == i or k == j):\n",
        "          possiblities.append(i*100+j*10+k)\n",
        "len(possiblities)"
      ]
    },
    {
      "cell_type": "code",
      "source": [
        "def eliminate(guess,answer):\n",
        "  new_possiblities = []\n",
        "  if answer == 'B':\n",
        "    for i in range(0,len(possiblities)):\n",
        "      nums_count = 0\n",
        "      equal_count = 0\n",
        "      nums = [int(str(guess)[0]),int(str(guess)[1]),int(str(guess)[2])]\n",
        "\n",
        "      for j in range(0,len(nums)):\n",
        "        if str(nums[j]) in str(possiblities[i]) and not str(possiblities[i])[j]==str(nums[j]):\n",
        "          nums_count+=1\n",
        "        if str(possiblities[i])[j]==str(nums[j]):\n",
        "          equal_count+=1\n",
        "      if nums_count == 1 and equal_count == 0:\n",
        "        new_possiblities.append(possiblities[i])\n",
        "  if answer == 'BB':\n",
        "    for i in range(0,len(possiblities)):\n",
        "      nums_count = 0\n",
        "      equal_count = 0\n",
        "      nums = [int(str(guess)[0]),int(str(guess)[1]),int(str(guess)[2])]\n",
        "\n",
        "      for j in range(0,len(nums)):\n",
        "        if str(nums[j]) in str(possiblities[i]) and not str(possiblities[i])[j]==str(nums[j]):\n",
        "          nums_count+=1\n",
        "        if str(possiblities[i])[j]==str(nums[j]):\n",
        "          equal_count+=1\n",
        "      if nums_count == 2 and equal_count == 0:\n",
        "        new_possiblities.append(possiblities[i])\n",
        "  if answer == 'BBB':\n",
        "    for i in range(0,len(possiblities)):\n",
        "      nums_count = 0\n",
        "      equal_count = 0\n",
        "      nums = [int(str(guess)[0]),int(str(guess)[1]),int(str(guess)[2])]\n",
        "\n",
        "      for j in range(0,len(nums)):\n",
        "        if str(nums[j]) in str(possiblities[i]) and not str(possiblities[i])[j]==str(nums[j]):\n",
        "          nums_count+=1\n",
        "        if str(possiblities[i])[j]==str(nums[j]):\n",
        "          equal_count+=1\n",
        "      if nums_count == 3 and equal_count == 0:\n",
        "        new_possiblities.append(possiblities[i])\n",
        "  if answer == 'BA':\n",
        "    for i in range(0,len(possiblities)):\n",
        "      nums_count = 0\n",
        "      equal_count = 0\n",
        "      nums = [int(str(guess)[0]),int(str(guess)[1]),int(str(guess)[2])]\n",
        "\n",
        "      for j in range(0,len(nums)):\n",
        "        if str(nums[j]) in str(possiblities[i]) and not str(possiblities[i])[j]==str(nums[j]):\n",
        "          nums_count+=1\n",
        "        if str(possiblities[i])[j]==str(nums[j]):\n",
        "          equal_count+=1\n",
        "      if nums_count == 1 and equal_count == 1:\n",
        "        new_possiblities.append(possiblities[i])\n",
        "  if answer == 'BBA':\n",
        "    for i in range(0,len(possiblities)):\n",
        "      nums_count = 0\n",
        "      equal_count = 0\n",
        "      nums = [int(str(guess)[0]),int(str(guess)[1]),int(str(guess)[2])]\n",
        "\n",
        "      for j in range(0,len(nums)):\n",
        "        if str(nums[j]) in str(possiblities[i]) and not str(possiblities[i])[j]==str(nums[j]):\n",
        "          nums_count+=1\n",
        "        if str(possiblities[i])[j]==str(nums[j]):\n",
        "          equal_count+=1\n",
        "      if nums_count == 2 and equal_count == 1:\n",
        "        new_possiblities.append(possiblities[i])\n",
        "  if answer == 'A':\n",
        "    for i in range(0,len(possiblities)):\n",
        "      nums_count = 0\n",
        "      equal_count = 0\n",
        "      nums = [int(str(guess)[0]),int(str(guess)[1]),int(str(guess)[2])]\n",
        "\n",
        "      for j in range(0,len(nums)):\n",
        "        if str(nums[j]) in str(possiblities[i]) and not str(possiblities[i])[j]==str(nums[j]):\n",
        "          nums_count+=1\n",
        "        if str(possiblities[i])[j]==str(nums[j]):\n",
        "          equal_count+=1\n",
        "      if nums_count == 0 and equal_count == 1:\n",
        "        new_possiblities.append(possiblities[i])\n",
        "  if answer == 'AA':\n",
        "    for i in range(0,len(possiblities)):\n",
        "      nums_count = 0\n",
        "      equal_count = 0\n",
        "      nums = [int(str(guess)[0]),int(str(guess)[1]),int(str(guess)[2])]\n",
        "\n",
        "      for j in range(0,len(nums)):\n",
        "        if str(nums[j]) in str(possiblities[i]) and not str(possiblities[i])[j]==str(nums[j]):\n",
        "          nums_count+=1\n",
        "        if str(possiblities[i])[j]==str(nums[j]):\n",
        "          equal_count+=1\n",
        "      if nums_count == 0 and equal_count == 2:\n",
        "        new_possiblities.append(possiblities[i])\n",
        "  if answer == '':\n",
        "    for i in range(0,len(possiblities)):\n",
        "      nums_count = 0\n",
        "      equal_count = 0\n",
        "      nums = [int(str(guess)[0]),int(str(guess)[1]),int(str(guess)[2])]\n",
        "\n",
        "      for j in range(0,len(nums)):\n",
        "        if str(nums[j]) in str(possiblities[i]) and not str(possiblities[i])[j]==str(nums[j]):\n",
        "          nums_count+=1\n",
        "        if str(possiblities[i])[j]==str(nums[j]):\n",
        "          equal_count+=1\n",
        "\n",
        "      if nums_count == 0 and equal_count == 0:\n",
        "        new_possiblities.append(possiblities[i])\n",
        "  if answer == 'AAA':\n",
        "    return 'win'\n",
        "  return new_possiblities\n"
      ],
      "metadata": {
        "id": "ZfpQ7SZw0snF"
      },
      "execution_count": null,
      "outputs": []
    },
    {
      "cell_type": "code",
      "source": [
        "def detect_result(myguess,thereal):\n",
        "  As=0\n",
        "  Bs=0\n",
        "  guess = str(myguess)\n",
        "  real = str(thereal)\n",
        "  for i in range(0,len(guess)):\n",
        "    if guess[i] in real:\n",
        "      if guess[i] == real[i]:\n",
        "        As+=1\n",
        "      else:\n",
        "        Bs+=1\n",
        "  return 'B'*Bs+'A'*As\n",
        "detect_result(123,134)"
      ],
      "metadata": {
        "id": "ko0yjJcPGl0f"
      },
      "execution_count": null,
      "outputs": []
    },
    {
      "cell_type": "code",
      "source": [
        "answer = input('What is the number(3 digit no repeats no zeros)')\n",
        "while possiblities != 'win':\n",
        "  my_guess = possiblities[0]\n",
        "  print(possiblities)\n",
        "  print('guessing: ',my_guess,'hint: ',detect_result(my_guess,answer))\n",
        "  possiblities = eliminate(my_guess,detect_result(my_guess,answer))\n"
      ],
      "metadata": {
        "id": "9W9LbzEf7XtT"
      },
      "execution_count": null,
      "outputs": []
    }
  ]
}