{
  "nbformat": 4,
  "nbformat_minor": 0,
  "metadata": {
    "colab": {
      "provenance": [],
      "gpuType": "V28",
      "authorship_tag": "ABX9TyNayODaVlsyxpd2efhbNwFk",
      "include_colab_link": true
    },
    "kernelspec": {
      "name": "python3",
      "display_name": "Python 3"
    },
    "language_info": {
      "name": "python"
    },
    "accelerator": "TPU"
  },
  "cells": [
    {
      "cell_type": "markdown",
      "metadata": {
        "id": "view-in-github",
        "colab_type": "text"
      },
      "source": [
        "<a href=\"https://colab.research.google.com/github/adrianyang2012/Number_guessing_game/blob/main/Number_guesser_advanced.ipynb\" target=\"_parent\"><img src=\"https://colab.research.google.com/assets/colab-badge.svg\" alt=\"Open In Colab\"/></a>"
      ]
    },
    {
      "cell_type": "code",
      "execution_count": 15,
      "metadata": {
        "id": "dwTuVSma0HnP",
        "colab": {
          "base_uri": "https://localhost:8080/"
        },
        "outputId": "170c3ee6-46d8-465a-896b-b2ac49bc4f83"
      },
      "outputs": [
        {
          "output_type": "execute_result",
          "data": {
            "text/plain": [
              "15120"
            ]
          },
          "metadata": {},
          "execution_count": 15
        }
      ],
      "source": [
        "possiblities = []\n",
        "digits = 5\n",
        "\n",
        "possiblities = [x for x in range(10**(digits-1),10**digits) if '0' not in str(x) and len(list(set(list(str(x))))) == len(list(str(x)))]\n",
        "#print(possiblities)\n",
        "len(possiblities)"
      ]
    },
    {
      "cell_type": "code",
      "source": [
        "def eliminate(guess,answer):\n",
        "  new_possiblities = []\n",
        "  num_of_b = answer.count('B')\n",
        "  num_of_a = answer.count('A')\n",
        "\n",
        "\n",
        "  if answer == 'A'*digits:\n",
        "    return 'win'\n",
        "  else:\n",
        "    for i in range(0,len(possiblities)):\n",
        "      nums_count = 0\n",
        "      equal_count = 0\n",
        "      nums = [int(str(guess)[i]) for i in range(0,digits)]\n",
        "\n",
        "      for j in range(0,len(nums)):\n",
        "        if str(nums[j]) in str(possiblities[i]) and not str(possiblities[i])[j]==str(nums[j]):\n",
        "          nums_count+=1\n",
        "        if str(possiblities[i])[j]==str(nums[j]):\n",
        "          equal_count+=1\n",
        "      if nums_count == num_of_b and equal_count == num_of_a:\n",
        "        new_possiblities.append(possiblities[i])\n",
        "  return new_possiblities\n"
      ],
      "metadata": {
        "id": "ZfpQ7SZw0snF"
      },
      "execution_count": 16,
      "outputs": []
    },
    {
      "cell_type": "code",
      "source": [
        "def detect_result(myguess,thereal):\n",
        "  As=0\n",
        "  Bs=0\n",
        "  guess = str(myguess)\n",
        "  real = str(thereal)\n",
        "  for i in range(0,len(guess)):\n",
        "    if guess[i] in real:\n",
        "      if guess[i] == real[i]:\n",
        "        As+=1\n",
        "      else:\n",
        "        Bs+=1\n",
        "  return 'B'*Bs+'A'*As\n",
        "detect_result(123,134)"
      ],
      "metadata": {
        "id": "ko0yjJcPGl0f",
        "colab": {
          "base_uri": "https://localhost:8080/",
          "height": 35
        },
        "outputId": "712b3505-a1d0-4c19-a4a9-532bf5945c6e"
      },
      "execution_count": 17,
      "outputs": [
        {
          "output_type": "execute_result",
          "data": {
            "text/plain": [
              "'BA'"
            ],
            "application/vnd.google.colaboratory.intrinsic+json": {
              "type": "string"
            }
          },
          "metadata": {},
          "execution_count": 17
        }
      ]
    },
    {
      "cell_type": "code",
      "source": [
        "answer = input(f'What is the number({digits} digit no repeats no zeros)')\n",
        "while possiblities != 'win':\n",
        "  my_guess = possiblities[0]\n",
        "  #print(possiblities)\n",
        "  print('guessing: ',my_guess,'hint: ',detect_result(my_guess,answer))\n",
        "  possiblities = eliminate(my_guess,detect_result(my_guess,answer))\n"
      ],
      "metadata": {
        "id": "9W9LbzEf7XtT",
        "colab": {
          "base_uri": "https://localhost:8080/"
        },
        "outputId": "f7742be0-6555-4e5d-b0ef-10b3b8a53d6f"
      },
      "execution_count": 18,
      "outputs": [
        {
          "output_type": "stream",
          "name": "stdout",
          "text": [
            "What is the number(5 digit no repeats no zeros)89324\n",
            "guessing:  12345 hint:  BBA\n",
            "guessing:  13267 hint:  BB\n",
            "guessing:  21849 hint:  BBBB\n",
            "guessing:  32498 hint:  BBBBB\n",
            "guessing:  49382 hint:  BBBAA\n",
            "guessing:  89324 hint:  AAAAA\n"
          ]
        }
      ]
    },
    {
      "cell_type": "code",
      "source": [
        "import matplotlib.pyplot as plt\n",
        "import random\n",
        "moves_for_each = []\n",
        "for digits in range(3,7):\n",
        "  av_moves = []\n",
        "  print(digits)\n",
        "  for i in range(0,20):\n",
        "    print(i)\n",
        "    possiblities = [x for x in range(10**(digits-1),10**digits) if '0' not in str(x) and len(list(set(list(str(x))))) == len(list(str(x)))]\n",
        "    #print(possiblities)\n",
        "    moves = 0\n",
        "    answer = possiblities[random.randint(0,len(possiblities)-1)]\n",
        "    while possiblities != 'win':\n",
        "      moves+=1\n",
        "      my_guess = possiblities[0]\n",
        "      #print(possiblities)\n",
        "      #print('guessing: ',my_guess,'hint: ',detect_result(my_guess,answer))\n",
        "      possiblities = eliminate(my_guess,detect_result(my_guess,answer))\n",
        "    av_moves.append(moves)\n",
        "  moves_for_each.append(sum(av_moves)/len(av_moves))\n",
        "plt.plot(moves_for_each)\n"
      ],
      "metadata": {
        "colab": {
          "base_uri": "https://localhost:8080/",
          "height": 1000
        },
        "id": "L4tCR4kiTJv5",
        "outputId": "bd213b11-5d05-40e9-c0db-97951d92a58d"
      },
      "execution_count": 19,
      "outputs": [
        {
          "output_type": "stream",
          "name": "stdout",
          "text": [
            "3\n",
            "0\n",
            "1\n",
            "2\n",
            "3\n",
            "4\n",
            "5\n",
            "6\n",
            "7\n",
            "8\n",
            "9\n",
            "10\n",
            "11\n",
            "12\n",
            "13\n",
            "14\n",
            "15\n",
            "16\n",
            "17\n",
            "18\n",
            "19\n",
            "4\n",
            "0\n",
            "1\n",
            "2\n",
            "3\n",
            "4\n",
            "5\n",
            "6\n",
            "7\n",
            "8\n",
            "9\n",
            "10\n",
            "11\n",
            "12\n",
            "13\n",
            "14\n",
            "15\n",
            "16\n",
            "17\n",
            "18\n",
            "19\n",
            "5\n",
            "0\n",
            "1\n",
            "2\n",
            "3\n",
            "4\n",
            "5\n",
            "6\n",
            "7\n",
            "8\n",
            "9\n",
            "10\n",
            "11\n",
            "12\n",
            "13\n",
            "14\n",
            "15\n",
            "16\n",
            "17\n",
            "18\n",
            "19\n",
            "6\n",
            "0\n",
            "1\n",
            "2\n",
            "3\n",
            "4\n",
            "5\n",
            "6\n",
            "7\n",
            "8\n",
            "9\n",
            "10\n",
            "11\n",
            "12\n",
            "13\n",
            "14\n",
            "15\n",
            "16\n",
            "17\n",
            "18\n",
            "19\n"
          ]
        },
        {
          "output_type": "execute_result",
          "data": {
            "text/plain": [
              "[<matplotlib.lines.Line2D at 0x78a58d9f2740>]"
            ]
          },
          "metadata": {},
          "execution_count": 19
        },
        {
          "output_type": "display_data",
          "data": {
            "text/plain": [
              "<Figure size 640x480 with 1 Axes>"
            ],
            "image/png": "[encoded data removed]"
          },
          "metadata": {}
        }
      ]
    }
  ]
}